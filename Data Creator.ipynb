{
 "cells": [
  {
   "cell_type": "code",
   "execution_count": 23,
   "metadata": {},
   "outputs": [],
   "source": [
    "import KCFutil\n",
    "import pandas as pd\n",
    "import numpy as np\n",
    "import torch\n",
    "import torch.nn as nn\n",
    "from torch.utils.data import random_split, TensorDataset\n",
    "import matplotlib.pyplot as plt\n",
    "import seaborn as sns\n",
    "from IPython.display import clear_output\n",
    "from sklearn.model_selection   import train_test_split\n",
    "import time\n",
    "np.random.seed(2456)"
   ]
  },
  {
   "cell_type": "code",
   "execution_count": 24,
   "metadata": {},
   "outputs": [],
   "source": [
    "possible_aa = list(KCFutil.aminoacids.keys())\n",
    "possible_aa.remove('C')\n",
    "test=''\n",
    "for i in range (31):\n",
    "    random_aa = np.random.choice(possible_aa)\n",
    "    test+=random_aa\n",
    "\n",
    "test=KCFutil.peptide(test)"
   ]
  },
  {
   "cell_type": "code",
   "execution_count": 25,
   "metadata": {},
   "outputs": [
    {
     "data": {
      "image/png": "[encoded data removed]",
      "text/plain": [
       "<Figure size 432x288 with 1 Axes>"
      ]
     },
     "metadata": {
      "needs_background": "light"
     },
     "output_type": "display_data"
    }
   ],
   "source": [
    "test.info()"
   ]
  },
  {
   "cell_type": "code",
   "execution_count": 26,
   "metadata": {},
   "outputs": [
    {
     "data": {
      "text/plain": [
       "'HLRNPTNEDHSYDAHEANWIFITQTLIMDWN'"
      ]
     },
     "execution_count": 26,
     "metadata": {},
     "output_type": "execute_result"
    }
   ],
   "source": [
    "test.sequence"
   ]
  },
  {
   "cell_type": "code",
   "execution_count": 44,
   "metadata": {},
   "outputs": [],
   "source": [
    "col={'Sequence' : [],'Receptor_1': [],'Receptor_2': []}\n",
    "database=pd.DataFrame(col)"
   ]
  },
  {
   "cell_type": "code",
   "execution_count": 45,
   "metadata": {},
   "outputs": [],
   "source": [
    "database.loc[0]=[test.sequence]+ [0,0]"
   ]
  },
  {
   "cell_type": "code",
   "execution_count": 49,
   "metadata": {},
   "outputs": [
    {
     "data": {
      "text/html": [
       "<div>\n",
       "<style scoped>\n",
       "    .dataframe tbody tr th:only-of-type {\n",
       "        vertical-align: middle;\n",
       "    }\n",
       "\n",
       "    .dataframe tbody tr th {\n",
       "        vertical-align: top;\n",
       "    }\n",
       "\n",
       "    .dataframe thead th {\n",
       "        text-align: right;\n",
       "    }\n",
       "</style>\n",
       "<table border=\"1\" class=\"dataframe\">\n",
       "  <thead>\n",
       "    <tr style=\"text-align: right;\">\n",
       "      <th></th>\n",
       "      <th>Sequence</th>\n",
       "      <th>Receptor_1</th>\n",
       "      <th>Receptor_2</th>\n",
       "    </tr>\n",
       "  </thead>\n",
       "  <tbody>\n",
       "    <tr>\n",
       "      <th>0</th>\n",
       "      <td>HLRNPTNEDHSYDAHEANWIFITQTLIMDWN</td>\n",
       "      <td>0.0</td>\n",
       "      <td>0.0</td>\n",
       "    </tr>\n",
       "  </tbody>\n",
       "</table>\n",
       "</div>"
      ],
      "text/plain": [
       "                          Sequence  Receptor_1  Receptor_2\n",
       "0  HLRNPTNEDHSYDAHEANWIFITQTLIMDWN         0.0         0.0"
      ]
     },
     "execution_count": 49,
     "metadata": {},
     "output_type": "execute_result"
    }
   ],
   "source": [
    "database"
   ]
  },
  {
   "cell_type": "code",
   "execution_count": 81,
   "metadata": {},
   "outputs": [],
   "source": [
    "def mutation(sequence):\n",
    "    possible_aa = list(KCFutil.aminoacids.keys())\n",
    "    possible_aa.remove('C')\n",
    "    mut=np.random.randint(0,len(sequence))\n",
    "    random_aa = np.random.choice(possible_aa)\n",
    "#    print (mut+1, random_aa)\n",
    "    seq=sequence[:mut]+random_aa+sequence[mut+1:]\n",
    "#    print (seq)\n",
    "    return seq"
   ]
  },
  {
   "cell_type": "code",
   "execution_count": 131,
   "metadata": {},
   "outputs": [],
   "source": [
    "library={test.sequence : [0,0]}\n",
    "\n",
    "ref_frag1=test.sequence[0:6]\n",
    "ref_frag1=KCFutil.peptide(ref_frag1)\n",
    "ref_frag2=test.sequence[10:16]\n",
    "ref_frag2=KCFutil.peptide(ref_frag2)\n",
    "\n",
    "\n",
    "while len(library)<300:\n",
    "    new_seq=mutation(test.sequence)\n",
    "    new_seq=KCFutil.peptide(new_seq)\n",
    "    new_frag=new_seq.sequence[0:6]\n",
    "    new_frag=KCFutil.peptide(new_frag)\n",
    "    dist1=KCFutil.distance(ref_frag1,new_frag)\n",
    "    \n",
    "    new_frag=new_seq.sequence[10:16]\n",
    "    new_frag=KCFutil.peptide(new_frag)\n",
    "    dist2=KCFutil.distance(ref_frag2,new_frag)\n",
    "    \n",
    "    z1_contri=[test.zscale5[i] for i in range(0,len(test.zscale5),5)]\n",
    "    z1_contri=sum(z1_contri)/100\n",
    "    \n",
    "    z5_contri=[test.zscale5[i] for i in range(4,len(test.zscale5),5)]\n",
    "    z5_contri=sum(z5_contri)/100\n",
    "    \n",
    "    library[new_seq.sequence]=[(dist1/10.0+dist2/100.0-z1_contri-z5_contri)+(np.random.normal(0,0.1)), 0]"
   ]
  },
  {
   "cell_type": "code",
   "execution_count": 132,
   "metadata": {},
   "outputs": [],
   "source": [
    "list_lib=[(i,j) for i,j in library.items()]"
   ]
  },
  {
   "cell_type": "code",
   "execution_count": 135,
   "metadata": {},
   "outputs": [],
   "source": [
    "for j,i in enumerate(list_lib):\n",
    "    database.loc[j]=[i[0]]+ i[1]"
   ]
  },
  {
   "cell_type": "code",
   "execution_count": 137,
   "metadata": {},
   "outputs": [
    {
     "data": {
      "text/html": [
       "<div>\n",
       "<style scoped>\n",
       "    .dataframe tbody tr th:only-of-type {\n",
       "        vertical-align: middle;\n",
       "    }\n",
       "\n",
       "    .dataframe tbody tr th {\n",
       "        vertical-align: top;\n",
       "    }\n",
       "\n",
       "    .dataframe thead th {\n",
       "        text-align: right;\n",
       "    }\n",
       "</style>\n",
       "<table border=\"1\" class=\"dataframe\">\n",
       "  <thead>\n",
       "    <tr style=\"text-align: right;\">\n",
       "      <th></th>\n",
       "      <th>Sequence</th>\n",
       "      <th>Receptor_1</th>\n",
       "      <th>Receptor_2</th>\n",
       "    </tr>\n",
       "  </thead>\n",
       "  <tbody>\n",
       "    <tr>\n",
       "      <th>0</th>\n",
       "      <td>HLRNPTNEDHSYDAHEANWIFITQTLIMDWN</td>\n",
       "      <td>-0.115834</td>\n",
       "      <td>0.0</td>\n",
       "    </tr>\n",
       "    <tr>\n",
       "      <th>1</th>\n",
       "      <td>HLRNPTNEDHSYDAHEANWIFITQTLIMAWN</td>\n",
       "      <td>-0.124432</td>\n",
       "      <td>0.0</td>\n",
       "    </tr>\n",
       "    <tr>\n",
       "      <th>2</th>\n",
       "      <td>HLRNPTNEDHSYDAHEAKWIFITQTLIMDWN</td>\n",
       "      <td>-0.041332</td>\n",
       "      <td>0.0</td>\n",
       "    </tr>\n",
       "    <tr>\n",
       "      <th>3</th>\n",
       "      <td>HLRNPTNEDHSYDAHEANWSFITQTLIMDWN</td>\n",
       "      <td>-0.242947</td>\n",
       "      <td>0.0</td>\n",
       "    </tr>\n",
       "    <tr>\n",
       "      <th>4</th>\n",
       "      <td>HLRNPTNEDHSYDAHEANWRFITQTLIMDWN</td>\n",
       "      <td>-0.082559</td>\n",
       "      <td>0.0</td>\n",
       "    </tr>\n",
       "  </tbody>\n",
       "</table>\n",
       "</div>"
      ],
      "text/plain": [
       "                          Sequence  Receptor_1  Receptor_2\n",
       "0  HLRNPTNEDHSYDAHEANWIFITQTLIMDWN   -0.115834         0.0\n",
       "1  HLRNPTNEDHSYDAHEANWIFITQTLIMAWN   -0.124432         0.0\n",
       "2  HLRNPTNEDHSYDAHEAKWIFITQTLIMDWN   -0.041332         0.0\n",
       "3  HLRNPTNEDHSYDAHEANWSFITQTLIMDWN   -0.242947         0.0\n",
       "4  HLRNPTNEDHSYDAHEANWRFITQTLIMDWN   -0.082559         0.0"
      ]
     },
     "execution_count": 137,
     "metadata": {},
     "output_type": "execute_result"
    }
   ],
   "source": [
    "database.head()"
   ]
  },
  {
   "cell_type": "code",
   "execution_count": 139,
   "metadata": {},
   "outputs": [],
   "source": [
    "database.iloc[0:100].to_csv('test Lib1.csv')\n",
    "database.iloc[100:200].to_csv('test Lib2.csv')\n",
    "database.iloc[200:].to_csv('test Lib3.csv')"
   ]
  },
  {
   "cell_type": "code",
   "execution_count": null,
   "metadata": {},
   "outputs": [],
   "source": []
  }
 ],
 "metadata": {
  "kernelspec": {
   "display_name": "Python 3",
   "language": "python",
   "name": "python3"
  },
  "language_info": {
   "codemirror_mode": {
    "name": "ipython",
    "version": 3
   },
   "file_extension": ".py",
   "mimetype": "text/x-python",
   "name": "python",
   "nbconvert_exporter": "python",
   "pygments_lexer": "ipython3",
   "version": "3.7.1"
  }
 },
 "nbformat": 4,
 "nbformat_minor": 4
}
