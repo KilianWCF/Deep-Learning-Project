{
 "cells": [
  {
   "cell_type": "markdown",
   "metadata": {},
   "source": [
    "# Project for DTU course 02456 Deep Learning\n",
    "## Written by Kilian Conde-Frieboes (s190224)\n",
    "### Introduction"
   ]
  },
  {
   "cell_type": "markdown",
   "metadata": {},
   "source": [
    "The project will try to correlate peptide structure to measured biological data, in this case binding data to one or two receptors. The peptides are 31 amino acids long, each amino acid will be described by 5 z-scales (New Chemical Descriptors Relevant for the Design of Biologically Active Peptides. A Multivariate Characterization of 87 Amino Acids Maria Sandberg, Lennart Eriksson, Jörgen Jonsson, Michael Sjöström and Svante Wold _J.Med.Chem._ __1998__, _41_, 2481-2491). The z-scales originate in a PCA analysis and are the projections onto the main componenets. The different components can be interpreted as certain biophysical properties, e.g. the first component correalates heavy with lipophilicity. A large negative loading indicates a lipophilic amino acids, e.g. $z1=-4.22$ for the amino acid Phenylalanine. So each peptide is represented by 5x31 numbers. The network will use a CNN, LSTM, or a combination of the two as main unit and the data will be read in as a five-layered 1D array."
   ]
  },
  {
   "cell_type": "markdown",
   "metadata": {},
   "source": [
    "Some peptide processing utilities have been written earlier by KCF and are stored in KCFutil."
   ]
  },
  {
   "cell_type": "code",
   "execution_count": 1,
   "metadata": {},
   "outputs": [
    {
     "data": {
      "text/plain": [
       "<torch._C.Generator at 0x1d6dc8bb4b0>"
      ]
     },
     "execution_count": 1,
     "metadata": {},
     "output_type": "execute_result"
    }
   ],
   "source": [
    "import KCFutil\n",
    "import pandas as pd\n",
    "import numpy as np\n",
    "import torch\n",
    "import torch.nn as nn\n",
    "from torch.utils.data import random_split, TensorDataset\n",
    "import matplotlib.pyplot as plt\n",
    "import seaborn as sns\n",
    "from IPython.display import clear_output\n",
    "from sklearn.model_selection import KFold\n",
    "import time\n",
    "import seaborn as sns\n",
    "\n",
    "\n",
    "np.random.seed(2456)\n",
    "torch.manual_seed(2456)"
   ]
  },
  {
   "cell_type": "code",
   "execution_count": 2,
   "metadata": {},
   "outputs": [
    {
     "name": "stdout",
     "output_type": "stream",
     "text": [
      "Running GPU.\n"
     ]
    }
   ],
   "source": [
    "# Shameless stolen from exercise 6\n",
    "use_cuda = torch.cuda.is_available()\n",
    "\n",
    "print(\"Running GPU.\") if use_cuda else print(\"No GPU available.\")\n",
    "def get_variable(x):\n",
    "    if use_cuda:\n",
    "        return x.cuda()\n",
    "    return x\n",
    "\n"
   ]
  },
  {
   "cell_type": "markdown",
   "metadata": {},
   "source": [
    "Data are read in from a .csv file into a pandas data frame. Selected columns are copied over into a new dataframe (sequence, activity1, activity2) and the dataframes are concatenated into a larger dataframe ('combi')."
   ]
  },
  {
   "cell_type": "code",
   "execution_count": 3,
   "metadata": {},
   "outputs": [],
   "source": [
    "lib1=pd.read_csv(filepath_or_buffer =r'Results Lib1.csv',header=0, index_col=False, sep=',')\n",
    "lib2=pd.read_csv(filepath_or_buffer =r'Results Lib2.csv',header=0, index_col=False, sep=',')\n",
    "lib3=pd.read_csv(filepath_or_buffer =r'Results Lib3.csv',header=0, index_col=False, sep=',')\n",
    "\n",
    "lib1_red=pd.DataFrame()\n",
    "lib2_red=pd.DataFrame()\n",
    "lib3_red=pd.DataFrame()\n",
    "\n",
    "lib1_red['Sequence']=lib1['Sequence']\n",
    "lib2_red['Sequence']=lib2['Sequence']\n",
    "lib3_red['Sequence']=lib3['Sequence']\n",
    "\n",
    "lib1_red['Receptor_1']=lib1['Receptor_1']\n",
    "lib2_red['Receptor_1']=lib2['Receptor_1']\n",
    "lib3_red['Receptor_1']=lib3['Receptor_1']\n",
    "\n",
    "lib1_red['Receptor_2']=lib1['Receptor_2']\n",
    "lib2_red['Receptor_2']=lib2['Receptor_2']\n",
    "lib3_red['Receptor_2']=lib3['Receptor_2']\n",
    "\n",
    "lib1_red=lib1_red.dropna()\n",
    "lib2_red=lib2_red.dropna()\n",
    "lib3_red=lib3_red.dropna()"
   ]
  },
  {
   "cell_type": "markdown",
   "metadata": {},
   "source": [
    "The binding affinities were preprocessed in Excel and the numbers are relative to a control peptide. The quantity used is the shift on the binding curve relative to control on a log scale. The picture below may help.\n",
    "<img src=\"image 1.PNG\">"
   ]
  },
  {
   "cell_type": "code",
   "execution_count": 4,
   "metadata": {},
   "outputs": [],
   "source": [
    "combi=pd.concat([lib1_red,lib2_red,lib3_red], axis=0,ignore_index=True)\n",
    "combi.to_csv('combi.csv')"
   ]
  },
  {
   "cell_type": "markdown",
   "metadata": {},
   "source": [
    "Distribution plot, just out of interest."
   ]
  },
  {
   "cell_type": "code",
   "execution_count": 5,
   "metadata": {},
   "outputs": [
    {
     "data": {
      "image/png": "[encoded data removed]",
      "text/plain": [
       "<Figure size 432x288 with 1 Axes>"
      ]
     },
     "metadata": {
      "needs_background": "light"
     },
     "output_type": "display_data"
    },
    {
     "data": {
      "image/png": "[encoded data removed]",
      "text/plain": [
       "<Figure size 432x288 with 1 Axes>"
      ]
     },
     "metadata": {
      "needs_background": "light"
     },
     "output_type": "display_data"
    }
   ],
   "source": [
    "sns.distplot(combi['Receptor_1'])\n",
    "plt.show()\n",
    "sns.distplot(combi['Receptor_2'])\n",
    "plt.show()"
   ]
  },
  {
   "cell_type": "markdown",
   "metadata": {},
   "source": [
    "An array for the features is created storing the 31x5 zscales for each peptide.\n"
   ]
  },
  {
   "cell_type": "code",
   "execution_count": 6,
   "metadata": {},
   "outputs": [],
   "source": [
    "x=torch.empty((len(combi),31,5))\n",
    "y=torch.empty((len(combi),2))\n",
    "\n",
    "\n",
    "for i, row in  combi.iterrows():\n",
    "    pep=KCFutil.peptide(row['Sequence'])\n",
    "    x[i]=torch.FloatTensor(pep.zscale5mat)\n",
    "    y[i]=torch.FloatTensor((row['Receptor_1'],row['Receptor_2']))\n",
    "x=get_variable(x)\n",
    "y=get_variable(y)"
   ]
  },
  {
   "cell_type": "markdown",
   "metadata": {},
   "source": [
    "Definition of the CNN network."
   ]
  },
  {
   "cell_type": "code",
   "execution_count": 7,
   "metadata": {},
   "outputs": [],
   "source": [
    "# in_channels is 5 for the 5 zscales\n",
    "np.random.seed(42)\n",
    "torch.manual_seed(42)\n",
    "\n",
    "#CNN net definition\n",
    "conv_out_channel= 15 #lets start with 5\n",
    "conv_kernel_size=11\n",
    "conv_stride=1\n",
    "conv_pad=conv_kernel_size//2\n",
    "conv_out=conv_out_channel*31\n",
    "class CNNNet(nn.Module):\n",
    "    def __init__(self,):\n",
    "        super(CNNNet, self).__init__()\n",
    "        self.conv = nn.Conv1d(in_channels=5,out_channels=conv_out_channel,kernel_size=conv_kernel_size,stride=conv_stride,padding=conv_pad)\n",
    "        self.conv_drop=nn.Dropout(0.5)\n",
    "        torch.nn.init.xavier_uniform_(self.conv.weight)\n",
    "        self.ffnn_drop=nn.Dropout(0.5)\n",
    "        self.ffnn1=nn.Linear(in_features=conv_out,out_features=100,bias=False)\n",
    "        torch.nn.init.xavier_uniform_(self.ffnn1.weight)\n",
    "        self.l_out = nn.Linear(in_features=100,out_features=2,bias=False)\n",
    "        torch.nn.init.xavier_uniform_(self.l_out.weight)\n",
    "        \n",
    "    def forward(self, x):\n",
    "        ## Convolutional layer ##\n",
    "        x=x.transpose(2,1)\n",
    "        out=self.conv(x)\n",
    "        out=torch.relu(out)\n",
    "        out=self.conv_drop(out)\n",
    "        out = out.view(-1,conv_out)\n",
    "        out=self.ffnn1(out)\n",
    "        out=torch.relu(out)\n",
    "        out=self.ffnn_drop(out)\n",
    "        out=self.l_out(out)\n",
    "        return out\n",
    "    def reset(self):\n",
    "        self.conv.reset_parameters()\n",
    "        self.ffnn1.reset_parameters()\n",
    "        self.l_out.reset_parameters()"
   ]
  },
  {
   "cell_type": "markdown",
   "metadata": {},
   "source": [
    "Definition of the LSTM network."
   ]
  },
  {
   "cell_type": "code",
   "execution_count": 8,
   "metadata": {},
   "outputs": [],
   "source": [
    "LSTM_hiddensize= 50 #lets start with 5\n",
    "LSTM_layers=2\n",
    "LSTM_bidirectional=True\n",
    "if LSTM_bidirectional==True:\n",
    "    twoway=2\n",
    "else:\n",
    "    twoway=1\n",
    "\n",
    "class LSTMNet(nn.Module):\n",
    "    def __init__(self,):\n",
    "        super(LSTMNet, self).__init__()\n",
    "        self.lstm = nn.LSTM(input_size =5,hidden_size=LSTM_hiddensize,num_layers =LSTM_layers, bidirectional = LSTM_bidirectional)\n",
    "        self.ffnn_drop=nn.Dropout(0.5)\n",
    "        self.ffnn1=nn.Linear(in_features=LSTM_hiddensize*twoway*LSTM_layers,out_features=100,bias=False)\n",
    "        torch.nn.init.xavier_uniform_(self.ffnn1.weight)\n",
    "        self.l_out = nn.Linear(in_features=100,out_features=2,bias=False)\n",
    "        torch.nn.init.xavier_uniform_(self.l_out.weight)\n",
    "       \n",
    "    def forward(self, x):\n",
    "        x = x.transpose(0,1)\n",
    "        #input shape is (seq length, batch size, features)\n",
    "        _, (h_n, c_n) = self.lstm(x)\n",
    "        out = h_n.transpose(0,1)\n",
    "        out = out.reshape(-1,LSTM_hiddensize*twoway*LSTM_layers)\n",
    "        out = self.ffnn1(out)\n",
    "        out = torch.relu(out)\n",
    "        out=self.ffnn_drop(out)\n",
    "        out = self.l_out(out)\n",
    "        return out\n",
    "    def reset(self):\n",
    "        self.lstm.reset_parameters()\n",
    "        self.ffnn1.reset_parameters()\n",
    "        self.l_out.reset_parameters()\n",
    "\n",
    "        "
   ]
  },
  {
   "cell_type": "markdown",
   "metadata": {},
   "source": [
    "And finally the combination of the two."
   ]
  },
  {
   "cell_type": "code",
   "execution_count": 9,
   "metadata": {},
   "outputs": [],
   "source": [
    "combi_out_channel= 15 #lets start with 5\n",
    "combi_kernel_size=11\n",
    "combi_stride=1\n",
    "combi_pad=combi_kernel_size//2\n",
    "combi_conv_out=combi_out_channel*31\n",
    "\n",
    "combi_hiddensize= 50 #lets start with 5\n",
    "combi_layers=2\n",
    "\n",
    "\n",
    "combi_bidirectional=True\n",
    "if combi_bidirectional==True:\n",
    "    oneway=2\n",
    "else:\n",
    "    oneway=1\n",
    "\n",
    "class CombiNet(nn.Module):\n",
    "    def __init__(self,):\n",
    "        super(CombiNet, self).__init__()\n",
    "        \n",
    "        self.conv = nn.Conv1d(in_channels=5,out_channels=combi_out_channel,kernel_size=combi_kernel_size,stride=combi_stride,padding=combi_pad)\n",
    "        torch.nn.init.xavier_uniform_(self.conv.weight)\n",
    "        self.conv_drop = nn.Dropout(0.5)\n",
    "        self.lstm = nn.LSTM(input_size =5,hidden_size=combi_hiddensize,num_layers =combi_layers, bidirectional = combi_bidirectional)\n",
    "        self.fc1_features=combi_conv_out+combi_hiddensize*oneway*combi_layers\n",
    "        self.ffnn_drop=nn.Dropout(0.5)\n",
    "        self.ffnn1=nn.Linear(in_features=self.fc1_features,out_features=100,bias=False)\n",
    "        torch.nn.init.xavier_uniform_(self.ffnn1.weight)\n",
    "        self.l_out = nn.Linear(in_features=100,out_features=2,bias=False)\n",
    "        torch.nn.init.xavier_uniform_(self.l_out.weight)\n",
    "        \n",
    "    def forward(self, x):\n",
    "        x = x.transpose(0,1)\n",
    "        #input shape is (seq length, batch size, features)\n",
    "        _, (h_n, c_n) = self.lstm(x)\n",
    "        out = h_n.transpose(0,1)\n",
    "        out = out.reshape(-1,combi_hiddensize*oneway*combi_layers)\n",
    "        LSTMout=out\n",
    "        x = x.transpose(0,1)\n",
    "        x=x.transpose(2,1)\n",
    "        out=self.conv(x)\n",
    "        out=torch.relu(out)\n",
    "        out=self.conv_drop(out)\n",
    "        out = out.view(-1,combi_conv_out)\n",
    "        CNNout=out\n",
    "        out=[]\n",
    "        out.append(LSTMout)\n",
    "        out.append(CNNout)\n",
    "        out = torch.cat(out, dim=1)\n",
    "        out=self.ffnn1(out)\n",
    "        out=torch.relu(out)\n",
    "        out=self.l_out(out)\n",
    "        return out\n",
    "    def reset(self):\n",
    "        self.conv.reset_parameters()\n",
    "        self.lstm.reset_parameters()\n",
    "        self.ffnn1.reset_parameters()\n",
    "        self.l_out.reset_parameters()\n"
   ]
  },
  {
   "cell_type": "markdown",
   "metadata": {},
   "source": [
    "In the cell below you can select which network you are going to test/run."
   ]
  },
  {
   "cell_type": "code",
   "execution_count": 10,
   "metadata": {},
   "outputs": [
    {
     "name": "stdout",
     "output_type": "stream",
     "text": [
      "CombiNet(\n",
      "  (conv): Conv1d(5, 15, kernel_size=(11,), stride=(1,), padding=(5,))\n",
      "  (conv_drop): Dropout(p=0.5, inplace=False)\n",
      "  (lstm): LSTM(5, 50, num_layers=2, bidirectional=True)\n",
      "  (ffnn_drop): Dropout(p=0.5, inplace=False)\n",
      "  (ffnn1): Linear(in_features=665, out_features=100, bias=False)\n",
      "  (l_out): Linear(in_features=100, out_features=2, bias=False)\n",
      ")\n"
     ]
    }
   ],
   "source": [
    "\n",
    "\n",
    "#net = CNNNet()\n",
    "#net=LSTMNet()\n",
    "net=CombiNet()\n",
    "if use_cuda:\n",
    "    net.cuda()\n",
    "print(net)   "
   ]
  },
  {
   "cell_type": "markdown",
   "metadata": {},
   "source": [
    "Now test it."
   ]
  },
  {
   "cell_type": "code",
   "execution_count": 11,
   "metadata": {},
   "outputs": [
    {
     "name": "stdout",
     "output_type": "stream",
     "text": [
      "tensor([[ 2.3900, -1.0700,  1.1500, -1.3900,  0.6700],\n",
      "        [ 3.5200,  2.5000, -3.5000,  1.9900, -0.1700],\n",
      "        [ 0.7500, -2.1800, -1.1200, -1.4600, -0.4000],\n",
      "        [ 2.4700,  1.9500,  0.2600,  3.9000,  0.0900],\n",
      "        [ 3.5200,  2.5000, -3.5000,  1.9900, -0.1700],\n",
      "        [ 2.4700,  1.9500,  0.2600,  3.9000,  0.0900],\n",
      "        [ 2.3900, -1.0700,  1.1500, -1.3900,  0.6700],\n",
      "        [-2.8500, -0.2200,  0.4700,  1.9400, -0.9800],\n",
      "        [ 3.1100,  0.2600, -0.1100, -3.0400, -0.2500],\n",
      "        [-3.8900, -1.7300, -1.7100, -0.8400,  0.2600],\n",
      "        [ 3.5200,  2.5000, -3.5000,  1.9900, -0.1700],\n",
      "        [ 0.7500, -2.1800, -1.1200, -1.4600, -0.4000],\n",
      "        [-1.6600,  0.2700,  1.8400,  0.7000,  2.0000],\n",
      "        [ 3.9800,  0.9300,  1.9300, -2.4600,  0.7500],\n",
      "        [-3.8900, -1.7300, -1.7100, -0.8400,  0.2600],\n",
      "        [ 3.0500,  1.6200,  1.0400, -1.1500,  1.6100],\n",
      "        [-1.6600,  0.2700,  1.8400,  0.7000,  2.0000],\n",
      "        [ 0.2400, -2.3200,  0.6000, -0.1400,  1.3000],\n",
      "        [-4.3600,  3.9400,  0.5900,  3.4400, -1.5900],\n",
      "        [-2.5400,  2.4400,  0.4300,  0.0400, -1.4700],\n",
      "        [ 0.2400, -2.3200,  0.6000, -0.1400,  1.3000],\n",
      "        [ 2.3900, -1.0700,  1.1500, -1.3900,  0.6700],\n",
      "        [ 3.5200,  2.5000, -3.5000,  1.9900, -0.1700],\n",
      "        [ 2.0500, -4.0600,  0.3600, -0.8200, -0.3800],\n",
      "        [-3.8900, -1.7300, -1.7100, -0.8400,  0.2600],\n",
      "        [ 3.5200,  2.5000, -3.5000,  1.9900, -0.1700],\n",
      "        [-1.6600,  0.2700,  1.8400,  0.7000,  2.0000],\n",
      "        [-2.5900, -2.6400, -1.5400, -0.8500, -0.0200],\n",
      "        [ 2.0500, -4.0600,  0.3600, -0.8200, -0.3800],\n",
      "        [ 3.5200,  2.5000, -3.5000,  1.9900, -0.1700],\n",
      "        [-4.2200,  1.9400,  1.0600,  0.5400, -0.6200]], device='cuda:0')\n",
      "tensor([ 2.5593, -0.5076], device='cuda:0', grad_fn=<SelectBackward>)\n"
     ]
    }
   ],
   "source": [
    "Y_pre=net(x)\n",
    "print(x[0])\n",
    "print(Y_pre[0])"
   ]
  },
  {
   "cell_type": "markdown",
   "metadata": {},
   "source": [
    "The training parameter setup has been split to be able to keep track of differnt parameter for different networks."
   ]
  },
  {
   "cell_type": "code",
   "execution_count": 12,
   "metadata": {},
   "outputs": [
    {
     "data": {
      "text/plain": [
       "<torch._C.Generator at 0x1d6dc8bb4b0>"
      ]
     },
     "execution_count": 12,
     "metadata": {},
     "output_type": "execute_result"
    }
   ],
   "source": [
    "\n",
    "if isinstance(net,CNNNet):\n",
    "    lr = 0.001\n",
    "    optimizer = torch.optim.Adam(net.parameters(), lr=lr, weight_decay=0.0001)\n",
    "    max_iter = 2000\n",
    "    exten='CNN'\n",
    "elif isinstance(net,LSTMNet):\n",
    "    lr =0.001\n",
    "    optimizer = torch.optim.Adam(net.parameters(), lr=lr, weight_decay=0.0001)\n",
    "    max_iter = 1000\n",
    "    exten='LSTM'\n",
    "elif isinstance(net,CombiNet):\n",
    "    lr =0.01\n",
    "    optimizer = torch.optim.Adam(net.parameters(), lr=lr, weight_decay=0.0001)\n",
    "    max_iter = 1000    \n",
    "    exten='Combi'\n",
    "criterion = nn.MSELoss()\n",
    "#optimizer = torch.optim.SGD(net.parameters(), lr=lr, weight_decay=0.01, momentum=0.9)\n",
    "\n",
    "\n",
    "np.random.seed(42)\n",
    "torch.manual_seed(42)"
   ]
  },
  {
   "cell_type": "markdown",
   "metadata": {},
   "source": [
    "Split the data into test and train and running a K=10 cross validation. "
   ]
  },
  {
   "cell_type": "code",
   "execution_count": 13,
   "metadata": {},
   "outputs": [
    {
     "data": {
      "image/png": "[encoded data removed]",
      "text/plain": [
       "<Figure size 864x288 with 1 Axes>"
      ]
     },
     "metadata": {
      "needs_background": "light"
     },
     "output_type": "display_data"
    },
    {
     "name": "stdout",
     "output_type": "stream",
     "text": [
      "Saved at epoch 960\n",
      "epoch: 999 \ttrain loss: 0.0196 (-0.0011)\tval loss: 0.0245 (0.0004)\ttime used: 27.9s\n",
      "Minimum Validation loss: 0.0221 in epoch 960.\n",
      "Done (for now)!\n"
     ]
    }
   ],
   "source": [
    "Data=TensorDataset(x,y)\n",
    "splits=10\n",
    "kfold=KFold(n_splits=splits, shuffle=True)\n",
    "cross=0\n",
    "CV_val_loss=[0]*splits\n",
    "CV_train_loss=[0]*splits\n",
    "for train_index, test_index in kfold.split(Data):\n",
    "    \n",
    "    x_train, y_train=Data[train_index]\n",
    "    x_test, y_test=Data[test_index]\n",
    "    \n",
    "\n",
    "    net.reset()\n",
    "    \n",
    "    start=time.time()\n",
    "    train_loss_=[]\n",
    "    val_loss_=[]\n",
    "    epoch_=[]\n",
    "    min_val=100000\n",
    "    save_epoch=0\n",
    "\n",
    "    net.train()\n",
    "    for epoch in range(max_iter):\n",
    "        y_pre = net(x_train)\n",
    "        train_loss = criterion(y_pre,y_train)\n",
    "        optimizer.zero_grad()\n",
    "        train_loss.backward()\n",
    "        optimizer.step()\n",
    "        if epoch%10==0:\n",
    "            net.eval()\n",
    "            y_val=net(x_test)\n",
    "            val_loss=criterion(y_val,y_test)\n",
    "            val_loss_.append(val_loss)\n",
    "            net.train()\n",
    "            train_loss_.append(train_loss)\n",
    "            epoch_.append(epoch)\n",
    "        \n",
    "            fig = plt.figure(figsize=(12,4))\n",
    "            plt.plot(epoch_, train_loss_, label='train_loss')\n",
    "            plt.plot(epoch_, val_loss_, label='valid_loss')\n",
    "            plt.legend()\n",
    "            plt.xlabel('Epoch')\n",
    "            plt.ylabel('Loss')\n",
    "            plt.ylim([0,0.15])\n",
    "            plt.show()\n",
    "            min_val=min(min_val,val_loss_[-1].item())\n",
    "            if min_val==val_loss_[-1].item():\n",
    "                save_epoch=epoch\n",
    "                path=r'.\\cnnmodel'\n",
    "                torch.save(net.state_dict(), path)\n",
    "                CV_val_loss[cross]=val_loss_[-1].item()\n",
    "                CV_train_loss[cross]=train_loss_[-1].item()\n",
    "            print('Saved at epoch {}'.format(save_epoch))   \n",
    "            \n",
    "            if len(train_loss_)>1:\n",
    "                print ('CV: {} \\tepoch: {} \\ttrain loss: {:.4f} ({:.4f})\\tval loss: {:.4f} ({:.4f})\\ttime used: {:.1f}s'.format(cross+1,epoch,train_loss_[-1],train_loss_[-1]-train_loss_[-2]\n",
    "                                                                                                           ,val_loss_[-1],val_loss_[-1]-val_loss_[-2],time.time()-start))\n",
    "            else:\n",
    "                print ('epoch: {} \\ttrain loss: {:.4f}\\tval loss: {:.4f}\\ttime used: {:.1f}s'.format(epoch,train_loss_[-1],val_loss_[-1],time.time()-start))\n",
    "            clear_output(wait=True)\n",
    "    cross+=1    \n",
    "        \n",
    "\n",
    "    net.eval()\n",
    "    y_val=net(x_test)\n",
    "    val_loss=criterion(y_val,y_test)\n",
    "    val_loss_.append(val_loss)\n",
    "    net.train()\n",
    "    train_loss_.append(train_loss)\n",
    "    epoch_.append(epoch)\n",
    "    fig = plt.figure(figsize=(12,4))\n",
    "    plt.plot(epoch_, train_loss_, label='train_loss')\n",
    "    plt.plot(epoch_, val_loss_, label='valid_loss')\n",
    "    plt.xlabel('Epoch')\n",
    "    plt.ylabel('Loss')\n",
    "    plt.ylim([0,0.15])\n",
    "    plt.legend()\n",
    "    plt.savefig('CNN Trainloss.png')\n",
    "    plt.show()\n",
    "    print('Saved at epoch {}'.format(save_epoch))\n",
    "    print ('epoch: {} \\ttrain loss: {:.4f} ({:.4f})\\tval loss: {:.4f} ({:.4f})\\ttime used: {:.1f}s'.format(epoch,train_loss_[-1],train_loss_[-1]-train_loss_[-2],val_loss_[-1],val_loss_[-1]-val_loss_[-2],time.time()-start))\n",
    "    min_val=min(val_loss_).item()\n",
    "    min_index=val_loss_.index(min_val)\n",
    "    min_epoch=epoch_[min_index]                                                                                                       \n",
    "    print('Minimum Validation loss: {:.4f} in epoch {}.'.format(min_val,min_epoch))\n",
    "    print('Done (for now)!')   "
   ]
  },
  {
   "cell_type": "code",
   "execution_count": 14,
   "metadata": {},
   "outputs": [
    {
     "name": "stdout",
     "output_type": "stream",
     "text": [
      "Average Validation Loss: 0.0368\t sd: 0.0166\n"
     ]
    }
   ],
   "source": [
    "print ('Average Validation Loss: {:.4f}\\t sd: {:.4f}'.format(np.mean(CV_val_loss),np.std(CV_val_loss)))"
   ]
  },
  {
   "cell_type": "markdown",
   "metadata": {},
   "source": [
    "Cell below loads the network saved at the minimum loss. At the moment this is only available for the last iteration of the cross validation."
   ]
  },
  {
   "cell_type": "code",
   "execution_count": 15,
   "metadata": {},
   "outputs": [],
   "source": [
    "if min_val==val_loss_[-1]:\n",
    "    path=r'.\\cnnmodel'\n",
    "    torch.save(net.state_dict(), path)\n",
    "    print('Saved at last epoch')\n",
    "checkpoint = torch.load('cnnmodel')\n",
    "net.load_state_dict(checkpoint)\n",
    "y_pre = net(x_train)\n",
    "y_val=net(x_test)"
   ]
  },
  {
   "cell_type": "markdown",
   "metadata": {},
   "source": [
    "Here a heat map is generated from the output of the CNN layer which is 31x15 in size. THe first heat map has the relu function applied."
   ]
  },
  {
   "cell_type": "code",
   "execution_count": 15,
   "metadata": {},
   "outputs": [
    {
     "data": {
      "image/png": "[encoded data removed]",
      "text/plain": [
       "<Figure size 432x288 with 2 Axes>"
      ]
     },
     "metadata": {
      "needs_background": "light"
     },
     "output_type": "display_data"
    },
    {
     "data": {
      "image/png": "[encoded data removed]",
      "text/plain": [
       "<Figure size 432x288 with 2 Axes>"
      ]
     },
     "metadata": {
      "needs_background": "light"
     },
     "output_type": "display_data"
    }
   ],
   "source": [
    "test=torch.relu(net.conv(x_test.transpose(2,1)))\n",
    "sns.heatmap(test[0].cpu().detach().numpy(), cmap=\"RdBu_r\",vmin=-6, vmax=6)\n",
    "plt.savefig('heatmap1.png')\n",
    "plt.show()\n",
    "\n",
    "test=net.conv(x_test.transpose(2,1))\n",
    "sns.heatmap(test[0].cpu().detach().numpy(), cmap=\"RdBu_r\",vmin=-6, vmax=6)\n",
    "plt.savefig('heatmap2.png')\n",
    "plt.show()"
   ]
  },
  {
   "cell_type": "code",
   "execution_count": 16,
   "metadata": {},
   "outputs": [
    {
     "data": {
      "image/png": "[encoded data removed]",
      "text/plain": [
       "<Figure size 432x288 with 1 Axes>"
      ]
     },
     "metadata": {
      "needs_background": "light"
     },
     "output_type": "display_data"
    },
    {
     "data": {
      "image/png": "[encoded data removed]",
      "text/plain": [
       "<Figure size 432x288 with 1 Axes>"
      ]
     },
     "metadata": {
      "needs_background": "light"
     },
     "output_type": "display_data"
    }
   ],
   "source": [
    "\n",
    "plt.scatter(y_train[:,0].cpu().detach().numpy(),y_pre[:,0].cpu().detach().numpy(),label='Train Data')\n",
    "plt.scatter(y_test[:,0].cpu().detach().numpy(),y_val[:,0].cpu().detach().numpy(),label='Test Data')\n",
    "plt.legend()\n",
    "plt.xlabel('Measured Data')\n",
    "plt.ylabel('Predicted Data')\n",
    "plt.plot ([-0.25,2],[-0.25,2])\n",
    "plt.title('Predicted vs Measured data on the Receptor 1')\n",
    "plt.savefig('Receptor_1_'+exten+'.png')\n",
    "plt.show()\n",
    "\n",
    "\n",
    "plt.scatter(y_train[:,1].cpu().detach().numpy(),y_pre[:,1].cpu().detach().numpy(),label='Train Data')\n",
    "plt.scatter(y_test[:,1].cpu().detach().numpy(),y_val[:,1].cpu().detach().numpy(),label='Test Data')\n",
    "plt.xlabel('Measured Data')\n",
    "plt.ylabel('Predicted Data')\n",
    "plt.plot ([-1,1.5],[-1,1.5])\n",
    "plt.title('Predicted vs Measured data on the Receptor 2')\n",
    "plt.legend()\n",
    "plt.savefig('Receptor_2_'+exten+'.png')\n",
    "plt.show()"
   ]
  },
  {
   "cell_type": "code",
   "execution_count": null,
   "metadata": {},
   "outputs": [],
   "source": [
    "The cells below are for generating new peptides and virtual screening them. Not really part of the project."
   ]
  },
  {
   "cell_type": "code",
   "execution_count": 19,
   "metadata": {},
   "outputs": [
    {
     "name": "stdout",
     "output_type": "stream",
     "text": [
      "Time used for library generation 0.1s\n"
     ]
    }
   ],
   "source": [
    "already_existing={key: 1 for key in combi['Sequence']}\n",
    "\n",
    "new_pep=[]\n",
    "start=time.time()\n",
    "KCFutil.random_walk2(new_pep,KCFutil.peptide(combi['Sequence'][0]),n=10, m=1000, old_pep_dict=already_existing)\n",
    "print('Time used for library generation {:.1f}s'.format(time.time()-start))"
   ]
  },
  {
   "cell_type": "code",
   "execution_count": 29,
   "metadata": {},
   "outputs": [],
   "source": [
    "x_new=torch.empty((len(new_pep),31,5))\n",
    "y_new=torch.empty((len(new_pep),2))\n",
    "\n",
    "for n,pep in  enumerate(new_pep):\n",
    "    x_new[n]=torch.FloatTensor(pep.zscale5mat)\n",
    "\n",
    "\n",
    "\n",
    "x_new=get_variable(x_new)\n",
    "y_new=get_variable(y_new)"
   ]
  },
  {
   "cell_type": "code",
   "execution_count": 30,
   "metadata": {},
   "outputs": [],
   "source": [
    "y_new=net(x_new)"
   ]
  },
  {
   "cell_type": "code",
   "execution_count": 50,
   "metadata": {},
   "outputs": [
    {
     "name": "stdout",
     "output_type": "stream",
     "text": [
      "46\n"
     ]
    }
   ],
   "source": [
    "plate1={}\n",
    "j=0\n",
    "for i in range(len(y_new)):\n",
    "    if y_new[i][1]<-0.87:\n",
    "        j+=1\n",
    "        plate1[new_pep[i].sequence]=new_pep[i]\n",
    "        \n",
    "print (j)"
   ]
  },
  {
   "cell_type": "code",
   "execution_count": 51,
   "metadata": {},
   "outputs": [
    {
     "name": "stdout",
     "output_type": "stream",
     "text": [
      "44\n",
      "89\n"
     ]
    }
   ],
   "source": [
    "j=0\n",
    "for i in range(len(y_new)):\n",
    "    if y_new[i][0]<-0.70:\n",
    "        j+=1\n",
    "        plate1[new_pep[i].sequence]=new_pep[i]\n",
    "        \n",
    "print (j)\n",
    "print (len(plate1))"
   ]
  },
  {
   "cell_type": "code",
   "execution_count": 54,
   "metadata": {},
   "outputs": [
    {
     "name": "stdout",
     "output_type": "stream",
     "text": [
      "50\n",
      "160\n",
      "1\n",
      "160\n"
     ]
    }
   ],
   "source": [
    "j=0\n",
    "for i in range(len(y_new)):\n",
    "    if (y_new[i][0]>0.50) and (y_new[i][0]<1.50):\n",
    "        j+=1\n",
    "        plate1[new_pep[i].sequence]=new_pep[i]\n",
    "        if j==50:\n",
    "            break\n",
    "        \n",
    "print (j)\n",
    "print (len(plate1))\n",
    "\n",
    "j=0\n",
    "for i in range(len(y_new)):\n",
    "    if (y_new[i][1]>0.50) and (y_new[i][1]<1.50):\n",
    "        j+=1\n",
    "        plate1[new_pep[i].sequence]=new_pep[i]\n",
    "        if len(plate1)==160:\n",
    "            break\n",
    "        \n"
   ]
  },
  {
   "cell_type": "code",
   "execution_count": null,
   "metadata": {},
   "outputs": [],
   "source": []
  }
 ],
 "metadata": {
  "kernelspec": {
   "display_name": "Python 3",
   "language": "python",
   "name": "python3"
  },
  "language_info": {
   "codemirror_mode": {
    "name": "ipython",
    "version": 3
   },
   "file_extension": ".py",
   "mimetype": "text/x-python",
   "name": "python",
   "nbconvert_exporter": "python",
   "pygments_lexer": "ipython3",
   "version": "3.7.3"
  }
 },
 "nbformat": 4,
 "nbformat_minor": 4
}
